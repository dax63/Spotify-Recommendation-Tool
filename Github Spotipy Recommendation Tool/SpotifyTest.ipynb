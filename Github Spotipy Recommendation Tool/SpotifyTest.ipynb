{
 "cells": [
  {
   "cell_type": "markdown",
   "id": "6717f330",
   "metadata": {},
   "source": [
    "# Dependencies"
   ]
  },
  {
   "cell_type": "code",
   "execution_count": 11,
   "id": "b705a088",
   "metadata": {},
   "outputs": [],
   "source": [
    "# ! pip install python-dotenv\n",
    "# ! pip install spotipy --upgrade\n",
    "# ! touch .gitignore\n",
    "\n",
    "import pandas as pd\n",
    "from sklearn import preprocessing\n",
    "from sklearn.metrics.pairwise import cosine_similarity\n",
    "\n",
    "import spotipy\n",
    "from spotipy.oauth2 import SpotifyOAuth\n",
    "from spotipy.oauth2 import SpotifyClientCredentials\n",
    "\n",
    "from dotenv import load_dotenv\n",
    "import os"
   ]
  },
  {
   "cell_type": "markdown",
   "id": "f57a5c4a",
   "metadata": {},
   "source": [
    "### Spotify Setup"
   ]
  },
  {
   "cell_type": "code",
   "execution_count": 12,
   "id": "d3a8fece",
   "metadata": {},
   "outputs": [],
   "source": [
    "# load environment variables \n",
    "load_dotenv()\n",
    "\n",
    "# get Spotify API login credentials \n",
    "cid = os.getenv(\"cid\")\n",
    "secret = os.getenv(\"secret\")\n",
    "\n",
    "sp = spotipy.Spotify(auth_manager=SpotifyClientCredentials(client_id= cid,\n",
    "                                                           client_secret= secret))"
   ]
  },
  {
   "cell_type": "markdown",
   "id": "8b660058",
   "metadata": {},
   "source": [
    "# Inputs"
   ]
  },
  {
   "cell_type": "code",
   "execution_count": 24,
   "id": "9ddd83fa",
   "metadata": {},
   "outputs": [
    {
     "name": "stdout",
     "output_type": "stream",
     "text": [
      "Input Spotify song URL: https://open.spotify.com/track/7wFrXvmVFnYCUJY5OtOJVG?si=abf7b8f9f7754419\n"
     ]
    }
   ],
   "source": [
    "# take user input from Spotify \n",
    "input_url = input('Input Spotify song URL: ')\n",
    "# find audio features of user's track\n",
    "pp_input_df = sp.audio_features(input_url)\n",
    "p_input_df = pd.DataFrame.from_dict(pp_input_df)\n",
    "input_df = p_input_df[['id', 'danceability', 'energy', 'key', 'loudness', 'mode', 'speechiness', 'acousticness', 'instrumentalness', 'valence', 'tempo', 'time_signature']]\n",
    "\n",
    "# TEST CODE \n",
    "# input_df"
   ]
  },
  {
   "cell_type": "markdown",
   "id": "876ce63e",
   "metadata": {},
   "source": [
    "# Data Frame Preparation   "
   ]
  },
  {
   "cell_type": "markdown",
   "id": "7935ba9b",
   "metadata": {},
   "source": [
    "##### Spotify song features dataset link: \n",
    "https://www.kaggle.com/datasets/rodolfofigueroa/spotify-12m-songs"
   ]
  },
  {
   "cell_type": "code",
   "execution_count": 25,
   "id": "129f5f34",
   "metadata": {},
   "outputs": [],
   "source": [
    "# read in Spotify data set and return cleaned DataFrame \n",
    "df2 = pd.read_csv('tracks_features.csv')\n",
    "df3 = df2[['id', 'danceability', 'energy', 'key', 'loudness', 'mode', 'speechiness', 'acousticness', 'instrumentalness', 'valence', 'tempo', 'time_signature']]\n",
    "df4 = pd.concat([input_df, df3]).reset_index(drop=True)\n",
    "\n",
    "\n",
    "# TEST CODE \n",
    "# df2 = df1.truncate(after = 200)\n",
    "# df4.head()"
   ]
  },
  {
   "cell_type": "markdown",
   "id": "ba405152",
   "metadata": {},
   "source": [
    "## Feature Scaling\n",
    "### MinMaxScaler scales audio features to the range of 0 and 1. \n",
    "#### - Scaling all audio features to the range of 0 and 1 ensure that each metric is weighted on the same scale when finding recommendations. "
   ]
  },
  {
   "cell_type": "code",
   "execution_count": 26,
   "id": "f8e19ae7",
   "metadata": {
    "scrolled": true
   },
   "outputs": [],
   "source": [
    "# select columns to apply feature scaling to \n",
    "columns = ['danceability', 'energy', 'key', 'loudness', 'mode', 'speechiness', 'acousticness', 'instrumentalness', 'valence', 'tempo', 'time_signature']\n",
    "\n",
    "# scale selected columns\n",
    "scaler = preprocessing.MinMaxScaler()\n",
    "df4[columns] = scaler.fit_transform(df4[columns])\n",
    "\n",
    "\n",
    "# TEST CODE \n",
    "# df4.head()"
   ]
  },
  {
   "cell_type": "markdown",
   "id": "6e9581a8",
   "metadata": {},
   "source": [
    "## Calculating Cosine Similarity\n",
    "### Cosine_similarity finds how similar the user input song is to each song in the DataFrame\n",
    "#### - Cosine similarity calculates how similar the input track is to each track in the DataFrame by finding the difference between the input audio features vector and each DataFrame audio features vector using the formula: (A.B) / (||A||.||B||)."
   ]
  },
  {
   "cell_type": "code",
   "execution_count": 27,
   "id": "63ac5aaf",
   "metadata": {},
   "outputs": [],
   "source": [
    "# create and populate column in DataFrame to hold cosine similarity calculations\n",
    "df4['distances'] = cosine_similarity(df4.iloc[0:,1:11], df4.iloc[0:1,1:11])\n",
    "\n",
    "# select number of songs to display in output \n",
    "n = 10\n",
    "n_plus1 = n + 1\n",
    "n_largest = df4.nlargest((n_plus1), 'distances')\n",
    "\n",
    "\n",
    "# TEST CODE\n",
    "# n_largest"
   ]
  },
  {
   "cell_type": "markdown",
   "id": "1c99e255",
   "metadata": {},
   "source": [
    "# Outputs "
   ]
  },
  {
   "cell_type": "code",
   "execution_count": 30,
   "id": "8d90a4ea",
   "metadata": {},
   "outputs": [],
   "source": [
    "# create DataFrame to hold top n track audio features\n",
    "final_df = []\n",
    "\n",
    "for i in n_largest['id']:\n",
    "    final_df.append(\n",
    "    \n",
    "        sp.audio_features(n_largest['id'])\n",
    "    )\n",
    "\n",
    "\n",
    "# create DataFrame to hold top n track IDs\n",
    "final_df1 = []\n",
    "    \n",
    "for i in range(n_plus1):\n",
    "    final_df1.append(\n",
    "        final_df[0][i]['id']\n",
    "    )\n",
    "\n",
    "\n",
    "# TEST CODE\n",
    "# final_df"
   ]
  },
  {
   "cell_type": "code",
   "execution_count": 31,
   "id": "5d4d8a81",
   "metadata": {},
   "outputs": [
    {
     "data": {
      "text/html": [
       "<div>\n",
       "<style scoped>\n",
       "    .dataframe tbody tr th:only-of-type {\n",
       "        vertical-align: middle;\n",
       "    }\n",
       "\n",
       "    .dataframe tbody tr th {\n",
       "        vertical-align: top;\n",
       "    }\n",
       "\n",
       "    .dataframe thead th {\n",
       "        text-align: right;\n",
       "    }\n",
       "</style>\n",
       "<table border=\"1\" class=\"dataframe\">\n",
       "  <thead>\n",
       "    <tr style=\"text-align: right;\">\n",
       "      <th></th>\n",
       "      <th>ID</th>\n",
       "      <th>Title</th>\n",
       "      <th>Artist</th>\n",
       "      <th>Year</th>\n",
       "      <th>URI</th>\n",
       "    </tr>\n",
       "  </thead>\n",
       "  <tbody>\n",
       "    <tr>\n",
       "      <th>0</th>\n",
       "      <td>7wFrXvmVFnYCUJY5OtOJVG</td>\n",
       "      <td>Апрель</td>\n",
       "      <td>Тося Чайкина</td>\n",
       "      <td>2019-04-16</td>\n",
       "      <td>spotify:track:7wFrXvmVFnYCUJY5OtOJVG</td>\n",
       "    </tr>\n",
       "    <tr>\n",
       "      <th>1</th>\n",
       "      <td>7wFrXvmVFnYCUJY5OtOJVG</td>\n",
       "      <td>Апрель</td>\n",
       "      <td>Тося Чайкина</td>\n",
       "      <td>2019-04-16</td>\n",
       "      <td>spotify:track:7wFrXvmVFnYCUJY5OtOJVG</td>\n",
       "    </tr>\n",
       "    <tr>\n",
       "      <th>2</th>\n",
       "      <td>3R3BAoW0LS7Z63MRIKA07k</td>\n",
       "      <td>曾經愛過</td>\n",
       "      <td>Jeff Chang</td>\n",
       "      <td>2007-12-10</td>\n",
       "      <td>spotify:track:3R3BAoW0LS7Z63MRIKA07k</td>\n",
       "    </tr>\n",
       "    <tr>\n",
       "      <th>3</th>\n",
       "      <td>4V06GkEniMzkakGgLi66CJ</td>\n",
       "      <td>As It Was Written</td>\n",
       "      <td>Dylan James</td>\n",
       "      <td>2016-10-14</td>\n",
       "      <td>spotify:track:4V06GkEniMzkakGgLi66CJ</td>\n",
       "    </tr>\n",
       "    <tr>\n",
       "      <th>4</th>\n",
       "      <td>2JmFRXaJrkAUD2cs6U20KG</td>\n",
       "      <td>Jet Fuel</td>\n",
       "      <td>Mac Miller</td>\n",
       "      <td>2018-08-03</td>\n",
       "      <td>spotify:track:2JmFRXaJrkAUD2cs6U20KG</td>\n",
       "    </tr>\n",
       "    <tr>\n",
       "      <th>5</th>\n",
       "      <td>2Y67TJjDzjiYDU40lv2OFU</td>\n",
       "      <td>Dukh Par Har</td>\n",
       "      <td>Gurunam Singh</td>\n",
       "      <td>2008-01-01</td>\n",
       "      <td>spotify:track:2Y67TJjDzjiYDU40lv2OFU</td>\n",
       "    </tr>\n",
       "    <tr>\n",
       "      <th>6</th>\n",
       "      <td>4CG6vvFt5txQ2e79duyGR9</td>\n",
       "      <td>Last Breath</td>\n",
       "      <td>Mike Murk</td>\n",
       "      <td>2020-09-30</td>\n",
       "      <td>spotify:track:4CG6vvFt5txQ2e79duyGR9</td>\n",
       "    </tr>\n",
       "    <tr>\n",
       "      <th>7</th>\n",
       "      <td>0zsUMpq1NWhGMjPU9cMDML</td>\n",
       "      <td>Принимай меня</td>\n",
       "      <td>Olga Buzova</td>\n",
       "      <td>2018-10-05</td>\n",
       "      <td>spotify:track:0zsUMpq1NWhGMjPU9cMDML</td>\n",
       "    </tr>\n",
       "    <tr>\n",
       "      <th>8</th>\n",
       "      <td>7EqWNeER1OBHnTMb2O7TB5</td>\n",
       "      <td>Solace</td>\n",
       "      <td>Repose</td>\n",
       "      <td>2010-03-20</td>\n",
       "      <td>spotify:track:7EqWNeER1OBHnTMb2O7TB5</td>\n",
       "    </tr>\n",
       "    <tr>\n",
       "      <th>9</th>\n",
       "      <td>4AB78gWOSj8zkNmgAsopJX</td>\n",
       "      <td>A Dance of Light</td>\n",
       "      <td>Terra Lumina</td>\n",
       "      <td>2012-12-18</td>\n",
       "      <td>spotify:track:4AB78gWOSj8zkNmgAsopJX</td>\n",
       "    </tr>\n",
       "    <tr>\n",
       "      <th>10</th>\n",
       "      <td>3nVmMrhY948UpZ2vQ49b1I</td>\n",
       "      <td>Hojas al Viento</td>\n",
       "      <td>Pedro Vadhar</td>\n",
       "      <td>2019-10-04</td>\n",
       "      <td>spotify:track:3nVmMrhY948UpZ2vQ49b1I</td>\n",
       "    </tr>\n",
       "  </tbody>\n",
       "</table>\n",
       "</div>"
      ],
      "text/plain": [
       "                        ID              Title         Artist        Year  \\\n",
       "0   7wFrXvmVFnYCUJY5OtOJVG             Апрель   Тося Чайкина  2019-04-16   \n",
       "1   7wFrXvmVFnYCUJY5OtOJVG             Апрель   Тося Чайкина  2019-04-16   \n",
       "2   3R3BAoW0LS7Z63MRIKA07k               曾經愛過     Jeff Chang  2007-12-10   \n",
       "3   4V06GkEniMzkakGgLi66CJ  As It Was Written    Dylan James  2016-10-14   \n",
       "4   2JmFRXaJrkAUD2cs6U20KG           Jet Fuel     Mac Miller  2018-08-03   \n",
       "5   2Y67TJjDzjiYDU40lv2OFU       Dukh Par Har  Gurunam Singh  2008-01-01   \n",
       "6   4CG6vvFt5txQ2e79duyGR9        Last Breath      Mike Murk  2020-09-30   \n",
       "7   0zsUMpq1NWhGMjPU9cMDML      Принимай меня    Olga Buzova  2018-10-05   \n",
       "8   7EqWNeER1OBHnTMb2O7TB5             Solace         Repose  2010-03-20   \n",
       "9   4AB78gWOSj8zkNmgAsopJX   A Dance of Light   Terra Lumina  2012-12-18   \n",
       "10  3nVmMrhY948UpZ2vQ49b1I    Hojas al Viento   Pedro Vadhar  2019-10-04   \n",
       "\n",
       "                                     URI  \n",
       "0   spotify:track:7wFrXvmVFnYCUJY5OtOJVG  \n",
       "1   spotify:track:7wFrXvmVFnYCUJY5OtOJVG  \n",
       "2   spotify:track:3R3BAoW0LS7Z63MRIKA07k  \n",
       "3   spotify:track:4V06GkEniMzkakGgLi66CJ  \n",
       "4   spotify:track:2JmFRXaJrkAUD2cs6U20KG  \n",
       "5   spotify:track:2Y67TJjDzjiYDU40lv2OFU  \n",
       "6   spotify:track:4CG6vvFt5txQ2e79duyGR9  \n",
       "7   spotify:track:0zsUMpq1NWhGMjPU9cMDML  \n",
       "8   spotify:track:7EqWNeER1OBHnTMb2O7TB5  \n",
       "9   spotify:track:4AB78gWOSj8zkNmgAsopJX  \n",
       "10  spotify:track:3nVmMrhY948UpZ2vQ49b1I  "
      ]
     },
     "metadata": {},
     "output_type": "display_data"
    }
   ],
   "source": [
    "# create empty DataFrame to hold output  \n",
    "result = pd.DataFrame(columns = ['ID', 'Title', 'Artist', 'Year', 'URI'])\n",
    "\n",
    "# populate output DataFrame\n",
    "for i in range(n_plus1):\n",
    "    r_id = final_df1[i] \n",
    "    track_detail = sp.track(r_id)\n",
    "    \n",
    "    r_name = track_detail.get('name')\n",
    "    r_artist = track_detail.get('artists')[0]['name']\n",
    "    r_uri = track_detail.get('uri')\n",
    "    r_year = track_detail.get('album')['release_date']\n",
    "    \n",
    "    r_list = [r_id, r_name, r_artist, r_year, r_uri]\n",
    "    result.loc[len(result)] = r_list\n",
    "\n",
    "# display output DataFrame\n",
    "display(result)"
   ]
  }
 ],
 "metadata": {
  "kernelspec": {
   "display_name": "Python 3 (ipykernel)",
   "language": "python",
   "name": "python3"
  },
  "language_info": {
   "codemirror_mode": {
    "name": "ipython",
    "version": 3
   },
   "file_extension": ".py",
   "mimetype": "text/x-python",
   "name": "python",
   "nbconvert_exporter": "python",
   "pygments_lexer": "ipython3",
   "version": "3.9.13"
  }
 },
 "nbformat": 4,
 "nbformat_minor": 5
}
